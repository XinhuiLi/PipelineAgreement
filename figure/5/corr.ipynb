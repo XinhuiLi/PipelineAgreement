{
 "cells": [
  {
   "cell_type": "code",
   "execution_count": 1,
   "metadata": {},
   "outputs": [],
   "source": [
    "import os\n",
    "import numpy as np"
   ]
  },
  {
   "cell_type": "code",
   "execution_count": 2,
   "metadata": {},
   "outputs": [
    {
     "data": {
      "text/plain": [
       "(3, 30)"
      ]
     },
     "execution_count": 2,
     "metadata": {},
     "output_type": "execute_result"
    }
   ],
   "source": [
    "corr_2mm = np.load('/Users/xinhui.li/Documents/reproducibility/PipelineHarmonization/figure/5/corr_2mm.npy')\n",
    "corr_native = np.load('/Users/xinhui.li/Documents/reproducibility/PipelineHarmonization/figure/5/corr_native.npy')"
   ]
  },
  {
   "cell_type": "code",
   "execution_count": 3,
   "metadata": {},
   "outputs": [
    {
     "data": {
      "text/plain": [
       "(array([0.99932167, 0.97517953, 0.97521097]),\n",
       " array([0.99703523, 0.9878267 , 0.9899777 ]))"
      ]
     },
     "execution_count": 3,
     "metadata": {},
     "output_type": "execute_result"
    }
   ],
   "source": [
    "np.mean(corr_2mm, axis=1), np.mean(corr_native, axis=1)"
   ]
  }
 ],
 "metadata": {
  "interpreter": {
   "hash": "b357f402907a0918dcdae5b36efed440e647a849825e84eafd6bf1ef01964bdc"
  },
  "kernelspec": {
   "display_name": "Python 3.7.6 64-bit ('cpac': conda)",
   "name": "python3"
  },
  "language_info": {
   "codemirror_mode": {
    "name": "ipython",
    "version": 3
   },
   "file_extension": ".py",
   "mimetype": "text/x-python",
   "name": "python",
   "nbconvert_exporter": "python",
   "pygments_lexer": "ipython3",
   "version": "3.7.6"
  },
  "orig_nbformat": 4
 },
 "nbformat": 4,
 "nbformat_minor": 2
}
