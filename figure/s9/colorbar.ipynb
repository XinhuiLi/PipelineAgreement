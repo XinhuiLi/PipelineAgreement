{
 "cells": [
  {
   "cell_type": "code",
   "execution_count": 2,
   "metadata": {},
   "outputs": [
    {
     "data": {
      "image/png": "[encoded data removed]",
      "text/plain": [
       "<Figure size 72x216 with 1 Axes>"
      ]
     },
     "metadata": {
      "needs_background": "light"
     },
     "output_type": "display_data"
    }
   ],
   "source": [
    "import matplotlib.pyplot as plt\n",
    "import matplotlib as mpl\n",
    "\n",
    "fig, ax = plt.subplots(figsize=(1, 3))\n",
    "fig.subplots_adjust(right=0.5)\n",
    "\n",
    "cmap = mpl.cm.gray\n",
    "norm = mpl.colors.Normalize(vmin=0, vmax=1)\n",
    "\n",
    "cb1 = mpl.colorbar.ColorbarBase(ax, cmap=cmap,\n",
    "                                norm=norm)\n",
    "fig.savefig('colorbar.png', facecolor='white', bbox_inches='tight', transparent=False)"
   ]
  }
 ],
 "metadata": {
  "interpreter": {
   "hash": "b357f402907a0918dcdae5b36efed440e647a849825e84eafd6bf1ef01964bdc"
  },
  "kernelspec": {
   "display_name": "Python 3.7.6 64-bit ('cpac': conda)",
   "name": "python3"
  },
  "language_info": {
   "codemirror_mode": {
    "name": "ipython",
    "version": 3
   },
   "file_extension": ".py",
   "mimetype": "text/x-python",
   "name": "python",
   "nbconvert_exporter": "python",
   "pygments_lexer": "ipython3",
   "version": "3.7.6"
  },
  "orig_nbformat": 4
 },
 "nbformat": 4,
 "nbformat_minor": 2
}
